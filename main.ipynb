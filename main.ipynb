{
 "cells": [
  {
   "cell_type": "code",
   "execution_count": 160,
   "metadata": {
    "pycharm": {
     "name": "#%%\n"
    }
   },
   "outputs": [],
   "source": [
    "import numpy as np\n",
    "from random import shuffle\n",
    "from PIL.Image import open\n",
    "from os import listdir\n",
    "from typing import List"
   ]
  },
  {
   "cell_type": "markdown",
   "metadata": {
    "pycharm": {
     "name": "#%% md\n"
    }
   },
   "source": [
    "# Класс нейронки"
   ]
  },
  {
   "cell_type": "code",
   "execution_count": 161,
   "metadata": {
    "pycharm": {
     "name": "#%%\n"
    }
   },
   "outputs": [],
   "source": [
    "class KN:\n",
    "    learning_rate: float\n",
    "    D: float = 1\n",
    "    \n",
    "\n",
    "    def __init__(self, input, clasters): \n",
    "        self.weights = np.random.uniform(low=-0.3, high=0.3, size=(clasters, input))\n",
    "\n",
    "    def predict(self, vector: np.ndarray):\n",
    "        dist: np.ndarray =  np.power((vector - self.weights), 2).sum(axis=1)\n",
    "        winner_index = dist.argmin()\n",
    "        return winner_index\n",
    "\n",
    "    def train(self, vector: np.ndarray):\n",
    "        winner_index = self.predict(vector)\n",
    "\n",
    "        all_dists: np.ndarray = np.zeros(5, dtype=np.float32)\n",
    "        rows, _ = self.weights.shape\n",
    "        for index in range(0, rows):\n",
    "            if index == winner_index:\n",
    "                continue\n",
    "            else:\n",
    "                all_dists[index] = (np.power((vector - self.weights[index]), 2).sum())\n",
    "\n",
    "        if self.D is None:\n",
    "            max_dist_index = all_dists.argmax()\n",
    "            self.D = all_dists[max_dist_index]\n",
    "        \n",
    "        all_errors = []\n",
    "        for index in range(0, len(all_dists)):\n",
    "            if index == winner_index or all_dists[index] < kn.D:\n",
    "                delta: np.ndarray = self.learning_rate * (vector - self.weights[index])\n",
    "                self.weights[index] += delta\n",
    "                all_errors.append(np.abs(delta))\n",
    "            \n",
    "        all_errors = np.array(all_errors)\n",
    "        return all_errors.sum()"
   ]
  },
  {
   "cell_type": "markdown",
   "metadata": {
    "pycharm": {
     "name": "#%% md\n"
    }
   },
   "source": [
    "# Загрузка датасета"
   ]
  },
  {
   "cell_type": "code",
   "execution_count": 162,
   "metadata": {
    "pycharm": {
     "name": "#%%\n"
    }
   },
   "outputs": [],
   "source": [
    "def normalize(image: np.ndarray):\n",
    "    new_image = []\n",
    "    for rgb in image:\n",
    "        rgb: np.ndarray\n",
    "        if (rgb == [255,255,255]).all():\n",
    "            new_image.append(0)\n",
    "        else:\n",
    "            new_image.append(1)\n",
    "\n",
    "    return np.array(new_image)"
   ]
  },
  {
   "cell_type": "code",
   "execution_count": 163,
   "metadata": {
    "pycharm": {
     "name": "#%%\n"
    }
   },
   "outputs": [],
   "source": [
    "dataset: List[tuple] = []\n",
    "for file in listdir('data'):\n",
    "    image = np.array(open(f'data/{file}'))\n",
    "    x_max, y_max, _ = image.shape\n",
    "    image = image.reshape((x_max*y_max, 3))\n",
    "    image = normalize(image)\n",
    "    dataset.append(tuple((file, image)))"
   ]
  },
  {
   "cell_type": "code",
   "execution_count": 164,
   "metadata": {},
   "outputs": [],
   "source": [
    "test: List[tuple] = []\n",
    "for file in listdir('test'):\n",
    "    image = np.array(open(f'test/{file}'))\n",
    "    x_max, y_max, _ = image.shape\n",
    "    image = image.reshape((x_max*y_max, 3))\n",
    "    image = normalize(image)\n",
    "    test.append(tuple((file, image)))"
   ]
  },
  {
   "cell_type": "markdown",
   "metadata": {
    "pycharm": {
     "name": "#%% md\n"
    }
   },
   "source": [
    "# Обучение"
   ]
  },
  {
   "cell_type": "code",
   "execution_count": 165,
   "metadata": {
    "pycharm": {
     "name": "#%%\n"
    }
   },
   "outputs": [],
   "source": [
    "kn = KN(2500, 5)\n",
    "epoch = 200\n",
    "kn.learning_rate = 0.8\n",
    "\n",
    "all_deltas = []\n",
    "epoch_count = 0\n",
    "error_counter = np.zeros(shape=5)\n",
    "\n",
    "for i in range(epoch):\n",
    "    shuffle(dataset)\n",
    "    delta: float = 0\n",
    "    for _, image in dataset:\n",
    "        delta += kn.train(image)\n",
    "    \n",
    "    delta = delta / len(dataset)\n",
    "    all_deltas.append(round(delta, 5))\n",
    "    if (delta < 0.05): break\n",
    "\n",
    "    epoch_count += 1\n",
    "    kn.learning_rate *= 0.9\n",
    "    kn.D *= 0.9"
   ]
  },
  {
   "cell_type": "markdown",
   "metadata": {
    "pycharm": {
     "name": "#%% md\n"
    }
   },
   "source": [
    "# Кластеры"
   ]
  },
  {
   "cell_type": "code",
   "execution_count": 166,
   "metadata": {
    "pycharm": {
     "name": "#%%\n"
    }
   },
   "outputs": [
    {
     "name": "stdout",
     "output_type": "stream",
     "text": [
      "Обучающая выборка:\n",
      "Прямоугольник 8.png: Класс 0\n",
      "круг 2.png: Класс 2\n",
      "ромб 13.png: Класс 1\n",
      "квадрат 14.png: Класс 4\n",
      "круг 15.png: Класс 2\n",
      "круг 4.png: Класс 2\n",
      "квадрат 13.png: Класс 4\n",
      "круг 16.png: Класс 2\n",
      "Прямоугольник 12.png: Класс 0\n",
      "треугольник 12.png: Класс 3\n",
      "ромб 1.png: Класс 1\n",
      "круг 17.png: Класс 2\n",
      "треугольник 13.png: Класс 3\n",
      "треугольник 7.png: Класс 3\n",
      "Прямоугольник 17.png: Класс 0\n",
      "круг 7.png: Класс 2\n",
      "ромб 10.png: Класс 1\n",
      "круг 8.png: Класс 2\n",
      "треугольник 10.png: Класс 3\n",
      "треугольник 18.png: Класс 3\n",
      "квадрат 6.png: Класс 4\n",
      "Прямоугольник 2.png: Класс 0\n",
      "квадрат 11.png: Класс 4\n",
      "ромб 18.png: Класс 1\n",
      "треугольник 8.png: Класс 3\n",
      "ромб 4.png: Класс 1\n",
      "треугольник 5.png: Класс 3\n",
      "Прямоугольник 4.png: Класс 0\n",
      "треугольник 15.png: Класс 3\n",
      "Прямоугольник 14.png: Класс 0\n",
      "квадрат 1.png: Класс 4\n",
      "круг 13.png: Класс 2\n",
      "квадрат 10.png: Класс 4\n",
      "Прямоугольник 5.png: Класс 0\n",
      "квадрат 16.png: Класс 4\n",
      "ромб 8.png: Класс 1\n",
      "квадрат 4.png: Класс 4\n",
      "ромб 17.png: Класс 1\n",
      "круг 1.png: Класс 2\n",
      "квадрат 8.png: Класс 4\n",
      "квадрат 7.png: Класс 4\n",
      "Прямоугольник 16.png: Класс 0\n",
      "треугольник 9.png: Класс 3\n",
      "треугольник 6.png: Класс 3\n",
      "треугольник .png: Класс 3\n",
      "ромб 14.png: Класс 1\n",
      "круг 3.png: Класс 2\n",
      "квадрат 5.png: Класс 4\n",
      "треугольник 4.png: Класс 3\n",
      "круг 5.png: Класс 2\n",
      "квадрат 12.png: Класс 4\n",
      "треугольник 11.png: Класс 3\n",
      "ромб 9.png: Класс 1\n",
      "Прямоугольник 9.png: Класс 0\n",
      "квадрат 3.png: Класс 4\n",
      "ромб 12.png: Класс 1\n",
      "квадрат 2.png: Класс 4\n",
      "Прямоугольник 11.png: Класс 0\n",
      "круг 10.png: Класс 2\n",
      "квадрат 9.png: Класс 4\n",
      "квадрат 15.png: Класс 4\n",
      "ромб 7.png: Класс 1\n",
      "Прямоугольник 3.png: Класс 0\n",
      "ромб 11.png: Класс 1\n",
      "Прямоугольник 10.png: Класс 0\n",
      "треугольник 14.png: Класс 3\n",
      "Прямоугольник 18.png: Класс 0\n",
      "ромб 2.png: Класс 1\n",
      "круг 6.png: Класс 2\n",
      "круг 12.png: Класс 2\n",
      "квадрат 17.png: Класс 4\n",
      "круг 11.png: Класс 2\n",
      "круг 14.png: Класс 2\n",
      "Прямоугольник 7.png: Класс 0\n",
      "ромб 6.png: Класс 1\n",
      "ромб 16.png: Класс 1\n",
      "Прямоугольник 1.png: Класс 0\n",
      "ромб 3.png: Класс 1\n",
      "Прямоугольник 15.png: Класс 0\n",
      "треугольник 16.png: Класс 3\n",
      "Прямоугольник 13.png: Класс 0\n",
      "треугольник 3.png: Класс 3\n",
      "Прямоугольник 6.png: Класс 0\n",
      "треугольник 17.png: Класс 3\n",
      "ромб 5.png: Класс 1\n",
      "круг 9.png: Класс 2\n",
      "квадрат 18.png: Класс 4\n",
      "треугольник 2.png: Класс 3\n",
      "ромб 15.png: Класс 1\n",
      "{0: 'Прямоугольник', 1: 'ромб', 2: 'круг', 3: 'треугольник', 4: 'квадрат'}\n",
      "\n",
      "Изменения на эпохе [353.51287, 273.26363, 258.77293, 230.07317, 205.48796, 187.82389, 168.00361, 149.28921, 132.2254, 123.03552, 110.68333, 97.45493, 88.10764, 78.55537, 71.44124, 64.79527, 57.91182, 51.21681, 46.43504, 41.35562, 37.58971, 33.52937, 30.18573, 27.09696, 24.13573, 21.86451, 19.66132, 17.7063, 15.91139, 14.27257, 12.79586, 11.5301, 10.35445, 9.28764, 8.38402, 7.54909, 6.7664, 6.07628, 5.4703, 4.92292, 4.43201, 3.98405, 3.57801, 3.22298, 2.89757, 2.61185, 2.3481, 2.11089, 1.8998, 1.70906, 1.53779, 1.38372, 1.24543, 1.12071, 1.00855, 0.90757, 0.81678, 0.7351, 0.66141, 0.5955, 0.5357, 0.48218, 0.43389, 0.3905, 0.35141, 0.31621, 0.28461, 0.25614, 0.23053, 0.20746, 0.18671, 0.16804, 0.15123, 0.13609, 0.12249, 0.11024, 0.09921, 0.08929, 0.08036, 0.07233, 0.06509, 0.05858, 0.05272, 0.04745]\n",
      "Прошло эпох: 83\n",
      "Тестовая выборка:\n",
      "квадрат 19.png: Класс 4\n",
      "квадрат 20.png: Класс 4\n",
      "круг 18.png: Класс 2\n",
      "круг 19.png: Класс 2\n",
      "Прямоугольник 19.png: Класс 0\n",
      "Прямоугольник 20.png: Класс 0\n",
      "ромб 19.png: Класс 1\n",
      "ромб 20.png: Класс 1\n",
      "треугольник 19.png: Класс 3\n",
      "треугольник 20.png: Класс 3\n",
      "Ошибка на тестовой выборке: 0.0\n"
     ]
    }
   ],
   "source": [
    "print('Обучающая выборка:')\n",
    "all_class = { 0: {}, 1: {}, 2: {}, 3: {}, 4: {} }\n",
    "for filename, image in dataset:\n",
    "    classes = kn.predict(image)\n",
    "    default_value = all_class[classes].get(filename.split(' ')[0], 0)\n",
    "    new_value = default_value + 1\n",
    "    all_class[classes][filename.split(' ')[0]] = new_value\n",
    "    print(f'{filename}: Класс {classes}')\n",
    "\n",
    "correct_classes = {}\n",
    "for _class in range(0, len(all_class)):\n",
    "    max_key = max(all_class[_class], key=all_class[_class].get)\n",
    "    correct_classes[_class] = max_key\n",
    "print(correct_classes)\n",
    "\n",
    "print(f'\\nИзменения на эпохе {all_deltas}')\n",
    "print(f'Прошло эпох: {epoch_count}')\n",
    "\n",
    "print('Тестовая выборка:')\n",
    "error = 0\n",
    "for filename, image in test:\n",
    "    classes = kn.predict(image)\n",
    "    if filename.split(' ')[0] != correct_classes[classes]: error += 1  \n",
    "    print(f'{filename}: Класс {classes}')\n",
    "    \n",
    "        \n",
    "\n",
    "print(f'Ошибка на тестовой выборке: {error / len(test)}')"
   ]
  }
 ],
 "metadata": {
  "interpreter": {
   "hash": "04feaabb7636aed5a4c2382b4dcb00002e816c1a1767f2e4c952fa9476739647"
  },
  "kernelspec": {
   "display_name": "Python 3.10.2 ('venv')",
   "language": "python",
   "name": "python3"
  },
  "language_info": {
   "codemirror_mode": {
    "name": "ipython",
    "version": 3
   },
   "file_extension": ".py",
   "mimetype": "text/x-python",
   "name": "python",
   "nbconvert_exporter": "python",
   "pygments_lexer": "ipython3",
   "version": "3.10.4"
  },
  "orig_nbformat": 4
 },
 "nbformat": 4,
 "nbformat_minor": 2
}
