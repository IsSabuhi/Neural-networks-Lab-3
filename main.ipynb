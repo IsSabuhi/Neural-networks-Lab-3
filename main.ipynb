{
 "cells": [
  {
   "cell_type": "code",
   "execution_count": null,
   "metadata": {
    "pycharm": {
     "name": "#%%\n"
    }
   },
   "outputs": [],
   "source": [
    "import numpy as np\n",
    "from random import shuffle\n",
    "from PIL.Image import open\n",
    "from os import listdir\n",
    "from typing import List"
   ]
  },
  {
   "cell_type": "markdown",
   "metadata": {
    "pycharm": {
     "name": "#%% md\n"
    }
   },
   "source": [
    "# Класс нейронки"
   ]
  },
  {
   "cell_type": "code",
   "execution_count": null,
   "metadata": {
    "pycharm": {
     "name": "#%%\n"
    }
   },
   "outputs": [],
   "source": [
    "class KohonenNeural:\n",
    "    learning_rate: float\n",
    "    D: float = 1\n",
    "    \n",
    "\n",
    "    def __init__(self, input, clasters): \n",
    "        self.weights = np.random.uniform(low=-0.3, high=0.3, size=(clasters, input))\n",
    "\n",
    "    def predict(self, vector: np.ndarray):\n",
    "        dist: np.ndarray =  np.power((vector - self.weights), 2).sum(axis=1)\n",
    "        winner_index = dist.argmin()\n",
    "        return winner_index\n",
    "\n",
    "    def train(self, vector: np.ndarray):\n",
    "        winner_index = self.predict(vector)\n",
    "\n",
    "        all_dists: np.ndarray = np.zeros(5, dtype=np.float32)\n",
    "        rows, _ = self.weights.shape\n",
    "        for index in range(0, rows):\n",
    "            if index == winner_index:\n",
    "                continue\n",
    "            else:\n",
    "                all_dists[index] = (np.power((vector - self.weights[index]), 2).sum())\n",
    "\n",
    "        if self.D is None:\n",
    "            max_dist_index = all_dists.argmax()\n",
    "            self.D = all_dists[max_dist_index]\n",
    "        \n",
    "        all_errors = []\n",
    "        for index in range(0, len(all_dists)):\n",
    "            if index == winner_index or all_dists[index] < kn.D:\n",
    "                delta: np.ndarray = self.learning_rate * (vector - self.weights[index])\n",
    "                self.weights[index] += delta\n",
    "                all_errors.append(np.abs(delta))\n",
    "            \n",
    "        all_errors = np.array(all_errors)\n",
    "        return all_errors.sum()"
   ]
  },
  {
   "cell_type": "markdown",
   "metadata": {
    "pycharm": {
     "name": "#%% md\n"
    }
   },
   "source": [
    "# Загрузка датасета"
   ]
  },
  {
   "cell_type": "code",
   "execution_count": null,
   "metadata": {
    "pycharm": {
     "name": "#%%\n"
    }
   },
   "outputs": [],
   "source": [
    "def normalize(image: np.ndarray):\n",
    "    new_image = []\n",
    "    for rgb in image:\n",
    "        rgb: np.ndarray\n",
    "        if (rgb == [255,255,255]).all():\n",
    "            new_image.append(0)\n",
    "        else:\n",
    "            new_image.append(1)\n",
    "\n",
    "    return np.array(new_image)"
   ]
  },
  {
   "cell_type": "code",
   "execution_count": null,
   "metadata": {
    "pycharm": {
     "name": "#%%\n"
    }
   },
   "outputs": [],
   "source": [
    "dataset: List[tuple] = []\n",
    "for file in listdir('data'):\n",
    "    image = np.array(open(f'data/{file}'))\n",
    "    x_max, y_max, _ = image.shape\n",
    "    image = image.reshape((x_max*y_max, 3))\n",
    "    image = normalize(image)\n",
    "    dataset.append(tuple((file, image)))"
   ]
  },
  {
   "cell_type": "code",
   "execution_count": null,
   "metadata": {},
   "outputs": [],
   "source": [
    "test: List[tuple] = []\n",
    "for file in listdir('test'):\n",
    "    image = np.array(open(f'test/{file}'))\n",
    "    x_max, y_max, _ = image.shape\n",
    "    image = image.reshape((x_max*y_max, 3))\n",
    "    image = normalize(image)\n",
    "    test.append(tuple((file, image)))"
   ]
  },
  {
   "cell_type": "markdown",
   "metadata": {
    "pycharm": {
     "name": "#%% md\n"
    }
   },
   "source": [
    "# Обучение"
   ]
  },
  {
   "cell_type": "code",
   "execution_count": null,
   "metadata": {
    "pycharm": {
     "name": "#%%\n"
    }
   },
   "outputs": [],
   "source": [
    "kn = KohonenNeural(2500, 5)\n",
    "epoch = 200\n",
    "kn.learning_rate = 0.8\n",
    "\n",
    "all_deltas = []\n",
    "epoch_count = 0\n",
    "error_counter = np.zeros(shape=5)\n",
    "\n",
    "for i in range(epoch):\n",
    "    shuffle(dataset)\n",
    "    delta: float = 0\n",
    "    for _, image in dataset:\n",
    "        delta += kn.train(image)\n",
    "    \n",
    "    delta = delta / len(dataset)\n",
    "    all_deltas.append(round(delta, 5))\n",
    "    if (delta < 0.05): break\n",
    "\n",
    "    epoch_count += 1\n",
    "    kn.learning_rate *= 0.9\n",
    "    kn.D *= 0.9"
   ]
  },
  {
   "cell_type": "markdown",
   "metadata": {
    "pycharm": {
     "name": "#%% md\n"
    }
   },
   "source": [
    "# Кластеры"
   ]
  },
  {
   "cell_type": "code",
   "execution_count": null,
   "metadata": {
    "pycharm": {
     "name": "#%%\n"
    }
   },
   "outputs": [],
   "source": [
    "print('Обучающая выборка:')\n",
    "all_class = { 0: {}, 1: {}, 2: {}, 3: {}, 4: {} }\n",
    "for filename, image in dataset:\n",
    "    classes = kn.predict(image)\n",
    "    default_value = all_class[classes].get(filename.split(' ')[0], 0)\n",
    "    new_value = default_value + 1\n",
    "    all_class[classes][filename.split(' ')[0]] = new_value\n",
    "    print(f'{filename}: Класс {classes}')\n",
    "\n",
    "correct_classes = {}\n",
    "for _class in range(0, len(all_class)):\n",
    "    max_key = max(all_class[_class], key=all_class[_class].get)\n",
    "    correct_classes[_class] = max_key\n",
    "print(correct_classes)\n",
    "\n",
    "print(f'\\nИзменения на эпохе {all_deltas}')\n",
    "print(f'Прошло эпох: {epoch_count}')\n",
    "\n",
    "print('Тестовая выборка:')\n",
    "error = 0\n",
    "for filename, image in test:\n",
    "    classes = kn.predict(image)\n",
    "    if filename.split(' ')[0] != correct_classes[classes]: error += 1  \n",
    "    print(f'{filename}: Класс {classes}')\n",
    "    \n",
    "        \n",
    "\n",
    "print(f'Ошибка на тестовой выборке: {error / len(test)}')"
   ]
  }
 ],
 "metadata": {
  "interpreter": {
   "hash": "04feaabb7636aed5a4c2382b4dcb00002e816c1a1767f2e4c952fa9476739647"
  },
  "kernelspec": {
   "display_name": "Python 3.10.2 ('venv')",
   "language": "python",
   "name": "python3"
  },
  "language_info": {
   "codemirror_mode": {
    "name": "ipython",
    "version": 3
   },
   "file_extension": ".py",
   "mimetype": "text/x-python",
   "name": "python",
   "nbconvert_exporter": "python",
   "pygments_lexer": "ipython3",
   "version": "3.10.4"
  },
  "orig_nbformat": 4
 },
 "nbformat": 4,
 "nbformat_minor": 2
}
